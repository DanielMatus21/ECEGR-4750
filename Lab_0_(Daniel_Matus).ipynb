{
  "nbformat": 4,
  "nbformat_minor": 0,
  "metadata": {
    "colab": {
      "provenance": []
    },
    "kernelspec": {
      "name": "python3",
      "display_name": "Python 3"
    },
    "language_info": {
      "name": "python"
    }
  },
  "cells": [
    {
      "cell_type": "markdown",
      "source": [
        "Daniel Matus\n",
        "\n",
        "Lab 0\n",
        "\n",
        "ECEGR 4750\n",
        "\n",
        "**Part 1.1**\n",
        "\n",
        "*Leap Year program*"
      ],
      "metadata": {
        "id": "vQperBRXCLl8"
      }
    },
    {
      "cell_type": "code",
      "execution_count": null,
      "metadata": {
        "colab": {
          "base_uri": "https://localhost:8080/"
        },
        "id": "1LBEZ4nLBkzl",
        "outputId": "302726ca-f3a2-42e0-c730-5215acfcf7ab"
      },
      "outputs": [
        {
          "output_type": "stream",
          "name": "stdout",
          "text": [
            "Enter a year between 1 and 3199. 1600\n",
            "This year is a leap year.\n"
          ]
        }
      ],
      "source": [
        "year = int(input(\"Enter a year between 1 and 3199. \"))\n",
        "if (((year % 4) == 0) and (((year % 100) != 0) or ((year % 400) == 0))):\n",
        "    print(\"This year is a leap year.\")\n",
        "else:\n",
        "    print(\"This year is not a leap year.\")"
      ]
    },
    {
      "cell_type": "markdown",
      "source": [
        "**Part 1.2**\n",
        "\n",
        "*Multiple choice program*"
      ],
      "metadata": {
        "id": "IwVzS1GmCs46"
      }
    },
    {
      "cell_type": "code",
      "source": [
        "print(\"\"\"\n",
        "Which of the numbers are divisible by 7?\n",
        "A. 54\n",
        "B. 189\n",
        "C. 194\n",
        "D. 91\n",
        "E. 720\n",
        "\"\"\")\n",
        "answer = input(\"Input the letter of your answer. \")\n",
        "while ((answer != \"B\") and (answer != \"b\") and (answer != \"D\") and (answer != \"d\")):\n",
        "    answer = input(\"Incorrect. Please try again. \")\n",
        "print(\"Correct!\")"
      ],
      "metadata": {
        "colab": {
          "base_uri": "https://localhost:8080/"
        },
        "id": "6fBDu-9RB7-s",
        "outputId": "21d705c6-3588-405e-94e8-abce72a19258"
      },
      "execution_count": null,
      "outputs": [
        {
          "output_type": "stream",
          "name": "stdout",
          "text": [
            "\n",
            "Which of the numbers are divisible by 7?\n",
            "A. 54\n",
            "B. 189\n",
            "C. 194\n",
            "D. 91\n",
            "E. 720\n",
            "\n",
            "Input the letter of your answer. D\n",
            "Correct!\n"
          ]
        }
      ]
    },
    {
      "cell_type": "markdown",
      "source": [
        "For both of the programs above, I didn't note any differences in results whether I ran it in Jupiter or in Colab."
      ],
      "metadata": {
        "id": "MZGOHf5WC71a"
      }
    },
    {
      "cell_type": "markdown",
      "source": [
        "**Part 2**\n",
        "\n",
        "I was able to install all requested libraries with the exception of 'Tensorflow.' The install process stated there were no viable alternatives."
      ],
      "metadata": {
        "id": "N2hJsIePMHix"
      }
    },
    {
      "cell_type": "markdown",
      "source": [
        "**Part 3.1-3.4**\n",
        "\n"
      ],
      "metadata": {
        "id": "BdjGGqDrMlOn"
      }
    },
    {
      "cell_type": "code",
      "source": [
        "import numpy as np\n",
        "dataset1 = [85,62,78,64,25,12,74,96,63,45,78,20,5,30,45,78,45,96,65,45,74,12,78,23,8]\n",
        "print(\"With Formatting: \")\n",
        "max = np.max(dataset1)\n",
        "print(\"Max:{0:d}\".format(max))\n",
        "min = np.min(dataset1)\n",
        "print(\"Min:{0:d}\".format(min))\n",
        "print(\"Without Formatting: \")\n",
        "print(\"Max:{0:d}\")\n",
        "print(\"Min:{0:d}\")"
      ],
      "metadata": {
        "colab": {
          "base_uri": "https://localhost:8080/"
        },
        "id": "uRdNntI0Kri3",
        "outputId": "c33eddf0-cbc1-4e5e-bd12-e622f54cdf08"
      },
      "execution_count": null,
      "outputs": [
        {
          "output_type": "stream",
          "name": "stdout",
          "text": [
            "With Formatting: \n",
            "Max:96\n",
            "Min:5\n",
            "Without Formatting: \n",
            "Max:{0:d}\n",
            "Min:{0:d}\n"
          ]
        }
      ]
    },
    {
      "cell_type": "markdown",
      "source": [
        "The formatting code <code>.format</code>  replaces the placeholder <code>\"{0:d}\"</code> with the actual max/min value."
      ],
      "metadata": {
        "id": "GYNp-trONDng"
      }
    },
    {
      "cell_type": "markdown",
      "source": [
        "**Part 3.5-3.8**"
      ],
      "metadata": {
        "id": "cRBI0nIRLZkK"
      }
    },
    {
      "cell_type": "code",
      "source": [
        "import numpy as np\n",
        "import matplotlib.pyplot as plt\n",
        "dataset1 = [85,62,78,64,25,12,74,96,63,45,78,20,5,30,45,78,45,96,65,45,74,12,78,23,8]\n",
        "mean1 = np.mean(dataset1)\n",
        "print(\"Mean:\", mean1)\n",
        "\n",
        "median1 = np.median(dataset1)\n",
        "print(\"Median:\", median1)\n",
        "\n",
        "variance1 = np.var(dataset1)\n",
        "print(\"Variance:\", variance1)\n",
        "\n",
        "hist1, edges1 = np.histogram(dataset1)\n",
        "plt.bar(edges1[:-1], hist1, width = edges1[1:]-edges1[:-1])"
      ],
      "metadata": {
        "colab": {
          "base_uri": "https://localhost:8080/",
          "height": 499
        },
        "id": "OP1eI3yZLfa8",
        "outputId": "ff641c6e-bee5-4053-fe9f-4d59d91f51aa"
      },
      "execution_count": null,
      "outputs": [
        {
          "output_type": "stream",
          "name": "stdout",
          "text": [
            "Mean: 52.24\n",
            "Median: 62.0\n",
            "Variance: 791.3824000000001\n"
          ]
        },
        {
          "output_type": "execute_result",
          "data": {
            "text/plain": [
              "<BarContainer object of 10 artists>"
            ]
          },
          "metadata": {},
          "execution_count": 49
        },
        {
          "output_type": "display_data",
          "data": {
            "text/plain": [
              "<Figure size 640x480 with 1 Axes>"
            ],
            "image/png": "[encoded data removed]"
          },
          "metadata": {}
        }
      ]
    },
    {
      "cell_type": "markdown",
      "source": [
        "**Part 3.9-3.10**"
      ],
      "metadata": {
        "id": "sT79OjAkW9eL"
      }
    },
    {
      "cell_type": "code",
      "source": [
        "import numpy as np\n",
        "import matplotlib.pyplot as plt\n",
        "dataset2 = np.random.randn(1000)\n",
        "mean2 = np.mean(dataset2)\n",
        "print(\"Mean:\", mean2)\n",
        "\n",
        "median2 = np.median(dataset2)\n",
        "print(\"Median:\", median2)\n",
        "\n",
        "variance2 = np.var(dataset2)\n",
        "print(\"Variance:\", variance2)\n",
        "\n",
        "hist2, edges2 = np.histogram(dataset2)\n",
        "plt.bar(edges2[:-1], hist2, width = edges2[1:]-edges2[:-1])"
      ],
      "metadata": {
        "colab": {
          "base_uri": "https://localhost:8080/",
          "height": 499
        },
        "id": "5GLPMDMKWQM2",
        "outputId": "c2d1482e-47f8-4fb7-fc58-8a62e6f0dcfd"
      },
      "execution_count": null,
      "outputs": [
        {
          "output_type": "stream",
          "name": "stdout",
          "text": [
            "Mean: -0.03653569923724924\n",
            "Median: -0.04688565041001051\n",
            "Variance: 0.9491766002758366\n"
          ]
        },
        {
          "output_type": "execute_result",
          "data": {
            "text/plain": [
              "<BarContainer object of 10 artists>"
            ]
          },
          "metadata": {},
          "execution_count": 50
        },
        {
          "output_type": "display_data",
          "data": {
            "text/plain": [
              "<Figure size 640x480 with 1 Axes>"
            ],
            "image/png": "[encoded data removed]"
          },
          "metadata": {}
        }
      ]
    },
    {
      "cell_type": "markdown",
      "source": [
        "There are 10 bars in the 3.9 graph."
      ],
      "metadata": {
        "id": "_7NRDdl7XCTs"
      }
    },
    {
      "cell_type": "markdown",
      "source": [
        "**Part 3.11**"
      ],
      "metadata": {
        "id": "0pwNHqg4XIQ4"
      }
    },
    {
      "cell_type": "code",
      "source": [
        "hist3, edges3 = np.histogram(dataset2, bins=100)\n",
        "plt.bar(edges3[:-1], hist3, width = edges3[1:]-edges3[:-1])"
      ],
      "metadata": {
        "colab": {
          "base_uri": "https://localhost:8080/",
          "height": 447
        },
        "id": "8HTb16E3XWq4",
        "outputId": "ec19fdb8-8ec7-4a38-bbcb-16706b90a710"
      },
      "execution_count": null,
      "outputs": [
        {
          "output_type": "execute_result",
          "data": {
            "text/plain": [
              "<BarContainer object of 100 artists>"
            ]
          },
          "metadata": {},
          "execution_count": 51
        },
        {
          "output_type": "display_data",
          "data": {
            "text/plain": [
              "<Figure size 640x480 with 1 Axes>"
            ],
            "image/png": "[encoded data removed]"
          },
          "metadata": {}
        }
      ]
    },
    {
      "cell_type": "markdown",
      "source": [
        "**Part 4.13-4.21**"
      ],
      "metadata": {
        "id": "iOxSDZsDXttS"
      }
    },
    {
      "cell_type": "markdown",
      "source": [
        "Importing required package for data"
      ],
      "metadata": {
        "id": "ukOCIc-mYD4z"
      }
    },
    {
      "cell_type": "code",
      "source": [
        "pip install ucimlrepo"
      ],
      "metadata": {
        "colab": {
          "base_uri": "https://localhost:8080/"
        },
        "id": "D2YORhB3X_0s",
        "outputId": "c7c41183-8442-40d1-fb2a-254c4911ac01"
      },
      "execution_count": null,
      "outputs": [
        {
          "output_type": "stream",
          "name": "stdout",
          "text": [
            "Collecting ucimlrepo\n",
            "  Downloading ucimlrepo-0.0.7-py3-none-any.whl.metadata (5.5 kB)\n",
            "Requirement already satisfied: pandas>=1.0.0 in /usr/local/lib/python3.10/dist-packages (from ucimlrepo) (2.2.2)\n",
            "Requirement already satisfied: certifi>=2020.12.5 in /usr/local/lib/python3.10/dist-packages (from ucimlrepo) (2024.8.30)\n",
            "Requirement already satisfied: numpy>=1.22.4 in /usr/local/lib/python3.10/dist-packages (from pandas>=1.0.0->ucimlrepo) (1.26.4)\n",
            "Requirement already satisfied: python-dateutil>=2.8.2 in /usr/local/lib/python3.10/dist-packages (from pandas>=1.0.0->ucimlrepo) (2.8.2)\n",
            "Requirement already satisfied: pytz>=2020.1 in /usr/local/lib/python3.10/dist-packages (from pandas>=1.0.0->ucimlrepo) (2024.2)\n",
            "Requirement already satisfied: tzdata>=2022.7 in /usr/local/lib/python3.10/dist-packages (from pandas>=1.0.0->ucimlrepo) (2024.2)\n",
            "Requirement already satisfied: six>=1.5 in /usr/local/lib/python3.10/dist-packages (from python-dateutil>=2.8.2->pandas>=1.0.0->ucimlrepo) (1.16.0)\n",
            "Downloading ucimlrepo-0.0.7-py3-none-any.whl (8.0 kB)\n",
            "Installing collected packages: ucimlrepo\n",
            "Successfully installed ucimlrepo-0.0.7\n"
          ]
        }
      ]
    },
    {
      "cell_type": "code",
      "source": [
        "from ucimlrepo import fetch_ucirepo\n",
        "import pandas as pd\n",
        "\n",
        "# fetch dataset\n",
        "daily_demand_forecasting_orders = fetch_ucirepo(id=409)\n",
        "\n",
        "# data (as pandas dataframes)\n",
        "X = daily_demand_forecasting_orders.data.features\n",
        "Y = daily_demand_forecasting_orders.data.targets\n",
        "\n",
        "print(X.head(n=5),\"\\n\")\n",
        "print(Y.head(n=5),\"\\n\")\n",
        "\n",
        "print(\"Average Values of Features:\")\n",
        "print(X.mean(),\"\\n\")\n",
        "print(\"Range Values of Features:\")\n",
        "print(X.max()-X.min(),\"\\n\")\n",
        "print(\"variance Values of Features:\")\n",
        "print(X.var(),\"\\n\")\n",
        "\n",
        "print(\"Average Values of Outputs:\")\n",
        "print(Y.mean(),\"\\n\")\n",
        "print(\"Range Values of Outputs:\")\n",
        "print(Y.max()-Y.min(),\"\\n\")\n",
        "print(\"variance Values of Outputs:\")\n",
        "print(Y.var(),\"\\n\")\n"
      ],
      "metadata": {
        "colab": {
          "base_uri": "https://localhost:8080/"
        },
        "id": "9ASznfPYYDLv",
        "outputId": "fa7cfa00-d0d2-4d41-927b-e419a9cfbf55"
      },
      "execution_count": null,
      "outputs": [
        {
          "output_type": "stream",
          "name": "stdout",
          "text": [
            "   Week of the month  Day of the week  Non-urgent order  Urgent order  \\\n",
            "0                  1                4           316.307       223.270   \n",
            "1                  1                5           128.633        96.042   \n",
            "2                  1                6            43.651        84.375   \n",
            "3                  2                2           171.297       127.667   \n",
            "4                  2                3            90.532       113.526   \n",
            "\n",
            "   Order type A  Order type B  Order type C  Fiscal sector orders  \\\n",
            "0        61.543       175.586       302.448                 0.000   \n",
            "1        38.058        56.037       130.580                 0.000   \n",
            "2        21.826        25.125        82.461                 1.386   \n",
            "3        41.542       113.294       162.284                18.156   \n",
            "4        37.679        56.618       116.220                 6.459   \n",
            "\n",
            "   Orders from the traffic controller sector  Banking orders (1)  \\\n",
            "0                                      65556               44914   \n",
            "1                                      40419               21399   \n",
            "2                                      11992                3452   \n",
            "3                                      49971               33703   \n",
            "4                                      48534               19646   \n",
            "\n",
            "   Banking orders (2)  Banking orders (3)  \n",
            "0              188411               14793  \n",
            "1               89461                7679  \n",
            "2               21305               14947  \n",
            "3               69054               18423  \n",
            "4               16411               20257   \n",
            "\n",
            "   Total orders\n",
            "0       539.577\n",
            "1       224.675\n",
            "2       129.412\n",
            "3       317.120\n",
            "4       210.517 \n",
            "\n",
            "Average Values of Features:\n",
            "Week of the month                                3.016667\n",
            "Day of the week                                  4.033333\n",
            "Non-urgent order                               172.554933\n",
            "Urgent order                                   118.920850\n",
            "Order type A                                    52.112217\n",
            "Order type B                                   109.229850\n",
            "Order type C                                   139.531250\n",
            "Fiscal sector orders                            77.396133\n",
            "Orders from the traffic controller sector    44504.350000\n",
            "Banking orders (1)                           46640.833333\n",
            "Banking orders (2)                           79401.483333\n",
            "Banking orders (3)                           23114.633333\n",
            "dtype: float64 \n",
            "\n",
            "Range Values of Features:\n",
            "Week of the month                                 4.000\n",
            "Day of the week                                   4.000\n",
            "Non-urgent order                                391.653\n",
            "Urgent order                                    145.899\n",
            "Order type A                                     96.352\n",
            "Order type B                                    242.217\n",
            "Order type C                                    228.076\n",
            "Fiscal sector orders                            865.000\n",
            "Orders from the traffic controller sector     59780.000\n",
            "Banking orders (1)                           207056.000\n",
            "Banking orders (2)                           172000.000\n",
            "Banking orders (3)                            66160.000\n",
            "dtype: float64 \n",
            "\n",
            "variance Values of Features:\n",
            "Week of the month                            1.643785e+00\n",
            "Day of the week                              1.964972e+00\n",
            "Non-urgent order                             4.831055e+03\n",
            "Urgent order                                 7.382594e+02\n",
            "Order type A                                 3.545655e+02\n",
            "Order type B                                 2.574688e+03\n",
            "Order type C                                 1.717517e+03\n",
            "Fiscal sector orders                         3.478317e+04\n",
            "Orders from the traffic controller sector    1.487889e+08\n",
            "Banking orders (1)                           2.044915e+09\n",
            "Banking orders (2)                           1.640608e+09\n",
            "Banking orders (3)                           1.728710e+08\n",
            "dtype: float64 \n",
            "\n",
            "Average Values of Outputs:\n",
            "Total orders    300.873317\n",
            "dtype: float64 \n",
            "\n",
            "Range Values of Outputs:\n",
            "Total orders    487.041\n",
            "dtype: float64 \n",
            "\n",
            "variance Values of Outputs:\n",
            "Total orders    8028.525706\n",
            "dtype: float64 \n",
            "\n"
          ]
        }
      ]
    },
    {
      "cell_type": "markdown",
      "source": [
        "**Part 4.22-4.24**"
      ],
      "metadata": {
        "id": "vitj80B1eloo"
      }
    },
    {
      "cell_type": "code",
      "source": [
        "import pandas as pd\n",
        "import matplotlib.pyplot as plt\n",
        "import numpy as np\n",
        "\n",
        "longley = pd.read_csv(\"http://vincentarelbundock.github.io/Rdatasets/csv/datasets/longley.csv\")\n",
        "\n",
        "gnp = longley['GNP']\n",
        "unemp = longley['Employed']\n",
        "\n",
        "plt.scatter(gnp, unemp)\n",
        "\n",
        "plt.xlabel(\"GNP\")\n",
        "plt.ylabel(\"Employed\")"
      ],
      "metadata": {
        "colab": {
          "base_uri": "https://localhost:8080/",
          "height": 484
        },
        "id": "6uag7syyfYh8",
        "outputId": "540efc08-95d6-4ec2-b23d-ad1d62a040b9"
      },
      "execution_count": 95,
      "outputs": [
        {
          "output_type": "execute_result",
          "data": {
            "text/plain": [
              "array([[1.        , 0.98355161],\n",
              "       [0.98355161, 1.        ]])"
            ]
          },
          "metadata": {},
          "execution_count": 95
        },
        {
          "output_type": "display_data",
          "data": {
            "text/plain": [
              "<Figure size 640x480 with 1 Axes>"
            ],
            "image/png": "[encoded data removed]"
          },
          "metadata": {}
        }
      ]
    },
    {
      "cell_type": "markdown",
      "source": [
        "**Part 4.25-4.26**"
      ],
      "metadata": {
        "id": "a5Ua0GS0jtWz"
      }
    },
    {
      "cell_type": "code",
      "source": [
        "np.corrcoef(gnp, unemp)"
      ],
      "metadata": {
        "colab": {
          "base_uri": "https://localhost:8080/"
        },
        "id": "nVgBf77QjrkI",
        "outputId": "86b4adb6-a39b-4f79-9822-da3f00f553d7"
      },
      "execution_count": 96,
      "outputs": [
        {
          "output_type": "execute_result",
          "data": {
            "text/plain": [
              "array([[1.        , 0.98355161],\n",
              "       [0.98355161, 1.        ]])"
            ]
          },
          "metadata": {},
          "execution_count": 96
        }
      ]
    },
    {
      "cell_type": "markdown",
      "source": [
        "The correlation coefficient is 0.98, which indicates a strong positive correlation. That means if GNP increases, Employment is very likely to increase as well."
      ],
      "metadata": {
        "id": "E1YPDYy1jxAT"
      }
    }
  ]
}