{
  "cells": [
    {
      "cell_type": "markdown",
      "id": "467a46ce-a17f-45c2-8d3b-50ffe1bfd4a2",
      "metadata": {
        "id": "467a46ce-a17f-45c2-8d3b-50ffe1bfd4a2"
      },
      "source": [
        "# Logistic-Regression Practice"
      ]
    },
    {
      "cell_type": "markdown",
      "id": "ac1c4d86-4875-4332-8e0c-dafc314f10fe",
      "metadata": {
        "id": "ac1c4d86-4875-4332-8e0c-dafc314f10fe"
      },
      "source": [
        "We will use a version of the famous Titanic data set that requires very little cleaning."
      ]
    },
    {
      "cell_type": "code",
      "execution_count": null,
      "id": "750d517f-fe6d-46b6-9809-77a15136c6c2",
      "metadata": {
        "id": "750d517f-fe6d-46b6-9809-77a15136c6c2",
        "colab": {
          "base_uri": "https://localhost:8080/",
          "height": 73
        },
        "outputId": "9a4e2a83-1627-4aec-bcd1-98f0fa789755"
      },
      "outputs": [
        {
          "output_type": "display_data",
          "data": {
            "text/plain": [
              "<IPython.core.display.HTML object>"
            ],
            "text/html": [
              "\n",
              "     <input type=\"file\" id=\"files-00f4b5ac-4eb5-421f-bbf8-eb043e850b3c\" name=\"files[]\" multiple disabled\n",
              "        style=\"border:none\" />\n",
              "     <output id=\"result-00f4b5ac-4eb5-421f-bbf8-eb043e850b3c\">\n",
              "      Upload widget is only available when the cell has been executed in the\n",
              "      current browser session. Please rerun this cell to enable.\n",
              "      </output>\n",
              "      <script>// Copyright 2017 Google LLC\n",
              "//\n",
              "// Licensed under the Apache License, Version 2.0 (the \"License\");\n",
              "// you may not use this file except in compliance with the License.\n",
              "// You may obtain a copy of the License at\n",
              "//\n",
              "//      http://www.apache.org/licenses/LICENSE-2.0\n",
              "//\n",
              "// Unless required by applicable law or agreed to in writing, software\n",
              "// distributed under the License is distributed on an \"AS IS\" BASIS,\n",
              "// WITHOUT WARRANTIES OR CONDITIONS OF ANY KIND, either express or implied.\n",
              "// See the License for the specific language governing permissions and\n",
              "// limitations under the License.\n",
              "\n",
              "/**\n",
              " * @fileoverview Helpers for google.colab Python module.\n",
              " */\n",
              "(function(scope) {\n",
              "function span(text, styleAttributes = {}) {\n",
              "  const element = document.createElement('span');\n",
              "  element.textContent = text;\n",
              "  for (const key of Object.keys(styleAttributes)) {\n",
              "    element.style[key] = styleAttributes[key];\n",
              "  }\n",
              "  return element;\n",
              "}\n",
              "\n",
              "// Max number of bytes which will be uploaded at a time.\n",
              "const MAX_PAYLOAD_SIZE = 100 * 1024;\n",
              "\n",
              "function _uploadFiles(inputId, outputId) {\n",
              "  const steps = uploadFilesStep(inputId, outputId);\n",
              "  const outputElement = document.getElementById(outputId);\n",
              "  // Cache steps on the outputElement to make it available for the next call\n",
              "  // to uploadFilesContinue from Python.\n",
              "  outputElement.steps = steps;\n",
              "\n",
              "  return _uploadFilesContinue(outputId);\n",
              "}\n",
              "\n",
              "// This is roughly an async generator (not supported in the browser yet),\n",
              "// where there are multiple asynchronous steps and the Python side is going\n",
              "// to poll for completion of each step.\n",
              "// This uses a Promise to block the python side on completion of each step,\n",
              "// then passes the result of the previous step as the input to the next step.\n",
              "function _uploadFilesContinue(outputId) {\n",
              "  const outputElement = document.getElementById(outputId);\n",
              "  const steps = outputElement.steps;\n",
              "\n",
              "  const next = steps.next(outputElement.lastPromiseValue);\n",
              "  return Promise.resolve(next.value.promise).then((value) => {\n",
              "    // Cache the last promise value to make it available to the next\n",
              "    // step of the generator.\n",
              "    outputElement.lastPromiseValue = value;\n",
              "    return next.value.response;\n",
              "  });\n",
              "}\n",
              "\n",
              "/**\n",
              " * Generator function which is called between each async step of the upload\n",
              " * process.\n",
              " * @param {string} inputId Element ID of the input file picker element.\n",
              " * @param {string} outputId Element ID of the output display.\n",
              " * @return {!Iterable<!Object>} Iterable of next steps.\n",
              " */\n",
              "function* uploadFilesStep(inputId, outputId) {\n",
              "  const inputElement = document.getElementById(inputId);\n",
              "  inputElement.disabled = false;\n",
              "\n",
              "  const outputElement = document.getElementById(outputId);\n",
              "  outputElement.innerHTML = '';\n",
              "\n",
              "  const pickedPromise = new Promise((resolve) => {\n",
              "    inputElement.addEventListener('change', (e) => {\n",
              "      resolve(e.target.files);\n",
              "    });\n",
              "  });\n",
              "\n",
              "  const cancel = document.createElement('button');\n",
              "  inputElement.parentElement.appendChild(cancel);\n",
              "  cancel.textContent = 'Cancel upload';\n",
              "  const cancelPromise = new Promise((resolve) => {\n",
              "    cancel.onclick = () => {\n",
              "      resolve(null);\n",
              "    };\n",
              "  });\n",
              "\n",
              "  // Wait for the user to pick the files.\n",
              "  const files = yield {\n",
              "    promise: Promise.race([pickedPromise, cancelPromise]),\n",
              "    response: {\n",
              "      action: 'starting',\n",
              "    }\n",
              "  };\n",
              "\n",
              "  cancel.remove();\n",
              "\n",
              "  // Disable the input element since further picks are not allowed.\n",
              "  inputElement.disabled = true;\n",
              "\n",
              "  if (!files) {\n",
              "    return {\n",
              "      response: {\n",
              "        action: 'complete',\n",
              "      }\n",
              "    };\n",
              "  }\n",
              "\n",
              "  for (const file of files) {\n",
              "    const li = document.createElement('li');\n",
              "    li.append(span(file.name, {fontWeight: 'bold'}));\n",
              "    li.append(span(\n",
              "        `(${file.type || 'n/a'}) - ${file.size} bytes, ` +\n",
              "        `last modified: ${\n",
              "            file.lastModifiedDate ? file.lastModifiedDate.toLocaleDateString() :\n",
              "                                    'n/a'} - `));\n",
              "    const percent = span('0% done');\n",
              "    li.appendChild(percent);\n",
              "\n",
              "    outputElement.appendChild(li);\n",
              "\n",
              "    const fileDataPromise = new Promise((resolve) => {\n",
              "      const reader = new FileReader();\n",
              "      reader.onload = (e) => {\n",
              "        resolve(e.target.result);\n",
              "      };\n",
              "      reader.readAsArrayBuffer(file);\n",
              "    });\n",
              "    // Wait for the data to be ready.\n",
              "    let fileData = yield {\n",
              "      promise: fileDataPromise,\n",
              "      response: {\n",
              "        action: 'continue',\n",
              "      }\n",
              "    };\n",
              "\n",
              "    // Use a chunked sending to avoid message size limits. See b/62115660.\n",
              "    let position = 0;\n",
              "    do {\n",
              "      const length = Math.min(fileData.byteLength - position, MAX_PAYLOAD_SIZE);\n",
              "      const chunk = new Uint8Array(fileData, position, length);\n",
              "      position += length;\n",
              "\n",
              "      const base64 = btoa(String.fromCharCode.apply(null, chunk));\n",
              "      yield {\n",
              "        response: {\n",
              "          action: 'append',\n",
              "          file: file.name,\n",
              "          data: base64,\n",
              "        },\n",
              "      };\n",
              "\n",
              "      let percentDone = fileData.byteLength === 0 ?\n",
              "          100 :\n",
              "          Math.round((position / fileData.byteLength) * 100);\n",
              "      percent.textContent = `${percentDone}% done`;\n",
              "\n",
              "    } while (position < fileData.byteLength);\n",
              "  }\n",
              "\n",
              "  // All done.\n",
              "  yield {\n",
              "    response: {\n",
              "      action: 'complete',\n",
              "    }\n",
              "  };\n",
              "}\n",
              "\n",
              "scope.google = scope.google || {};\n",
              "scope.google.colab = scope.google.colab || {};\n",
              "scope.google.colab._files = {\n",
              "  _uploadFiles,\n",
              "  _uploadFilesContinue,\n",
              "};\n",
              "})(self);\n",
              "</script> "
            ]
          },
          "metadata": {}
        },
        {
          "output_type": "stream",
          "name": "stdout",
          "text": [
            "Saving titanic_data.csv to titanic_data.csv\n"
          ]
        }
      ],
      "source": [
        "import pandas as pd\n",
        "import statsmodels.api as sm\n",
        "from sklearn.model_selection import train_test_split\n",
        "from google.colab import files\n",
        "\n",
        "uploaded = files.upload()"
      ]
    },
    {
      "cell_type": "markdown",
      "id": "1277147d-7faf-4dd1-990d-64cbbb15de00",
      "metadata": {
        "id": "1277147d-7faf-4dd1-990d-64cbbb15de00"
      },
      "source": [
        "Read in the data set."
      ]
    },
    {
      "cell_type": "code",
      "execution_count": null,
      "id": "56ae51e4-1e56-47e2-b288-fc3f4a6b74be",
      "metadata": {
        "id": "56ae51e4-1e56-47e2-b288-fc3f4a6b74be"
      },
      "outputs": [],
      "source": [
        "t_df = pd.read_csv('titanic_data.csv', index_col='PassengerId')\n",
        "t_df = t_df.dropna()"
      ]
    },
    {
      "cell_type": "markdown",
      "id": "3ea14e68-1180-407c-aac5-59958fce899c",
      "metadata": {
        "id": "3ea14e68-1180-407c-aac5-59958fce899c"
      },
      "source": [
        "Remove columns that don't make reasonable numeric predictors."
      ]
    },
    {
      "cell_type": "code",
      "execution_count": null,
      "id": "2e8fed58-d03e-496f-9d7e-7d38fddc23ef",
      "metadata": {
        "id": "2e8fed58-d03e-496f-9d7e-7d38fddc23ef"
      },
      "outputs": [],
      "source": [
        "t_df.drop(columns=['Name', 'Cabin', 'Ticket'], inplace=True)"
      ]
    },
    {
      "cell_type": "markdown",
      "id": "e25460f8-9af7-4dd7-b805-baf40bfe8fed",
      "metadata": {
        "id": "e25460f8-9af7-4dd7-b805-baf40bfe8fed"
      },
      "source": [
        "Convert the remaining columns to use numeric labels."
      ]
    },
    {
      "cell_type": "code",
      "execution_count": null,
      "id": "02720341-835c-4737-b07a-2ab69c86fbf5",
      "metadata": {
        "id": "02720341-835c-4737-b07a-2ab69c86fbf5",
        "colab": {
          "base_uri": "https://localhost:8080/"
        },
        "outputId": "4586ec73-b64d-48c1-e8b9-157e06a92848"
      },
      "outputs": [
        {
          "output_type": "stream",
          "name": "stderr",
          "text": [
            "<ipython-input-6-f58061677c28>:1: FutureWarning: A value is trying to be set on a copy of a DataFrame or Series through chained assignment using an inplace method.\n",
            "The behavior will change in pandas 3.0. This inplace method will never work because the intermediate object on which we are setting values always behaves as a copy.\n",
            "\n",
            "For example, when doing 'df[col].method(value, inplace=True)', try using 'df.method({col: value}, inplace=True)' or df[col] = df[col].method(value) instead, to perform the operation inplace on the original object.\n",
            "\n",
            "\n",
            "  t_df['Sex'].replace(['male', 'female'], [1, 0], inplace=True)\n",
            "<ipython-input-6-f58061677c28>:1: FutureWarning: Downcasting behavior in `replace` is deprecated and will be removed in a future version. To retain the old behavior, explicitly call `result.infer_objects(copy=False)`. To opt-in to the future behavior, set `pd.set_option('future.no_silent_downcasting', True)`\n",
            "  t_df['Sex'].replace(['male', 'female'], [1, 0], inplace=True)\n",
            "<ipython-input-6-f58061677c28>:2: FutureWarning: A value is trying to be set on a copy of a DataFrame or Series through chained assignment using an inplace method.\n",
            "The behavior will change in pandas 3.0. This inplace method will never work because the intermediate object on which we are setting values always behaves as a copy.\n",
            "\n",
            "For example, when doing 'df[col].method(value, inplace=True)', try using 'df.method({col: value}, inplace=True)' or df[col] = df[col].method(value) instead, to perform the operation inplace on the original object.\n",
            "\n",
            "\n",
            "  t_df['Embarked'].replace(['S', 'C', 'Q'], [0, 1, 2], inplace=True)\n",
            "<ipython-input-6-f58061677c28>:2: FutureWarning: Downcasting behavior in `replace` is deprecated and will be removed in a future version. To retain the old behavior, explicitly call `result.infer_objects(copy=False)`. To opt-in to the future behavior, set `pd.set_option('future.no_silent_downcasting', True)`\n",
            "  t_df['Embarked'].replace(['S', 'C', 'Q'], [0, 1, 2], inplace=True)\n"
          ]
        }
      ],
      "source": [
        "t_df['Sex'].replace(['male', 'female'], [1, 0], inplace=True)\n",
        "t_df['Embarked'].replace(['S', 'C', 'Q'], [0, 1, 2], inplace=True)"
      ]
    },
    {
      "cell_type": "markdown",
      "id": "dca55713-f6bb-4414-b058-5f5d1d43cc69",
      "metadata": {
        "id": "dca55713-f6bb-4414-b058-5f5d1d43cc69"
      },
      "source": [
        "Extract the dependent and independent variables."
      ]
    },
    {
      "cell_type": "code",
      "execution_count": null,
      "id": "0438fe4c-3909-4947-b45b-186c78078d51",
      "metadata": {
        "id": "0438fe4c-3909-4947-b45b-186c78078d51"
      },
      "outputs": [],
      "source": [
        "X = t_df.drop(columns=['Survived'])\n",
        "y = t_df['Survived']"
      ]
    },
    {
      "cell_type": "markdown",
      "id": "8eefd827-02ef-4469-9278-6e7d518bb16f",
      "metadata": {
        "id": "8eefd827-02ef-4469-9278-6e7d518bb16f"
      },
      "source": [
        "Split training and test sets."
      ]
    },
    {
      "cell_type": "markdown",
      "id": "a5422b95-e3ed-4e02-a83c-da21d5b75e9d",
      "metadata": {
        "id": "a5422b95-e3ed-4e02-a83c-da21d5b75e9d"
      },
      "source": [
        "Notice that we are  _practicing to learn_, not creating a product, so we have not paid attention to validation vs. test."
      ]
    },
    {
      "cell_type": "code",
      "execution_count": null,
      "id": "cd15ccd5-9bcc-4c66-a1ef-489c22777346",
      "metadata": {
        "id": "cd15ccd5-9bcc-4c66-a1ef-489c22777346"
      },
      "outputs": [],
      "source": [
        "X_train, X_test, y_train, y_test = train_test_split(X, y, test_size=0.30)"
      ]
    },
    {
      "cell_type": "markdown",
      "id": "f426daf8-24c0-455c-8a75-61000d8a29e1",
      "metadata": {
        "id": "f426daf8-24c0-455c-8a75-61000d8a29e1"
      },
      "source": [
        "### Run everything up to this point and check the variable explorer for the following.\n",
        "#### Do you have distinct training and test sets for the independent and dependent variables? Put the answer in your Jupyter notebook. Include the sizes of the sets in cardinality and percentage."
      ]
    },
    {
      "cell_type": "markdown",
      "source": [
        "Independant sizes:\n",
        "\n",
        "X: 183\n",
        "\n",
        "X_test: 55 -- (30.05%)\n",
        "\n",
        "X_train: 128 -- (69.95%)\n",
        "\n",
        "\n",
        "Dependant sizes:\n",
        "\n",
        "Y: 183\n",
        "\n",
        "Y_test: 55 -- (30.05%)\n",
        "\n",
        "Y_train: 128 -- (69.95%)"
      ],
      "metadata": {
        "id": "2yo5psTNCRCq"
      },
      "id": "2yo5psTNCRCq"
    },
    {
      "cell_type": "markdown",
      "id": "1c4b8bd5-2eaf-481b-86c6-fce52890e83f",
      "metadata": {
        "id": "1c4b8bd5-2eaf-481b-86c6-fce52890e83f"
      },
      "source": [
        "#### Look at the two training sets and at least one test set to verify they contain what you expect.\n",
        "Are there any issues? Put the answer in your Jupyter notebook. Include an explanation or discussion if necessary."
      ]
    },
    {
      "cell_type": "code",
      "execution_count": null,
      "id": "ba9932fd-03a9-4f44-b941-948619ae0e9d",
      "metadata": {
        "scrolled": true,
        "id": "ba9932fd-03a9-4f44-b941-948619ae0e9d",
        "outputId": "51d76fd4-67ed-49dd-83c4-8fd5b0c87f7b",
        "colab": {
          "base_uri": "https://localhost:8080/"
        }
      },
      "outputs": [
        {
          "output_type": "stream",
          "name": "stdout",
          "text": [
            "                           Logit Regression Results                           \n",
            "==============================================================================\n",
            "Dep. Variable:               Survived   No. Observations:                  128\n",
            "Model:                          Logit   Df Residuals:                      120\n",
            "Method:                           MLE   Df Model:                            7\n",
            "Date:                Mon, 11 Nov 2024   Pseudo R-squ.:                  0.3299\n",
            "Time:                        21:15:18   Log-Likelihood:                -55.618\n",
            "converged:                       True   LL-Null:                       -82.996\n",
            "Covariance Type:            nonrobust   LLR p-value:                 1.666e-09\n",
            "==============================================================================\n",
            "                 coef    std err          z      P>|z|      [0.025      0.975]\n",
            "------------------------------------------------------------------------------\n",
            "const          4.6197      1.389      3.325      0.001       1.896       7.343\n",
            "Pclass        -0.4394      0.468     -0.939      0.348      -1.356       0.478\n",
            "Sex           -3.1697      0.591     -5.362      0.000      -4.328      -2.011\n",
            "Age           -0.0461      0.019     -2.395      0.017      -0.084      -0.008\n",
            "SibSp         -0.1518      0.381     -0.398      0.690      -0.899       0.595\n",
            "Parch         -0.4559      0.430     -1.060      0.289      -1.299       0.387\n",
            "Fare           0.0027      0.003      0.810      0.418      -0.004       0.009\n",
            "Embarked       0.5330      0.504      1.058      0.290      -0.455       1.520\n",
            "==============================================================================\n"
          ]
        }
      ],
      "source": [
        "logmodel = sm.Logit(y_train, sm.add_constant(X_train)).fit(disp=False)\n",
        "print(logmodel.summary())"
      ]
    },
    {
      "cell_type": "markdown",
      "id": "fce86115-d7d6-4cff-b519-5c6a545f31eb",
      "metadata": {
        "id": "fce86115-d7d6-4cff-b519-5c6a545f31eb"
      },
      "source": [
        "### Are there any predictors that are not statistically significant in the conventional sense?\n",
        "Put the answer in your Jupyter notebook.<p>\n",
        "A variable is conventionally statistically significant if its _p_ value is less than 0.05. (Do you know why?)"
      ]
    },
    {
      "cell_type": "markdown",
      "source": [
        "Sex and Age both seem to be satistically signficiant, which makes sense since its often said \"women and children first\" in times of an emergency."
      ],
      "metadata": {
        "id": "Uun6J2g0F53v"
      },
      "id": "Uun6J2g0F53v"
    },
    {
      "cell_type": "markdown",
      "id": "a2d7f628-320a-4645-910c-ac38384e5c77",
      "metadata": {
        "id": "a2d7f628-320a-4645-910c-ac38384e5c77"
      },
      "source": [
        "### What variable is particularly strong in predicting survival?\n",
        "Put the answer in your Jupyter notebook."
      ]
    },
    {
      "cell_type": "markdown",
      "source": [
        "Definitely Sex, for the same reason as above."
      ],
      "metadata": {
        "id": "MNT88nyhHJPE"
      },
      "id": "MNT88nyhHJPE"
    },
    {
      "cell_type": "markdown",
      "id": "210fe52b-fca6-4bc8-8df6-3ec3e2e9f07a",
      "metadata": {
        "id": "210fe52b-fca6-4bc8-8df6-3ec3e2e9f07a"
      },
      "source": [
        "### What does a negative coefficient imply and why?\n",
        "Put the answer in your Jupyter notebook."
      ]
    },
    {
      "cell_type": "markdown",
      "source": [
        "It implies that as the value increases, the likelihood of survival decreases. In this case, female is assigned to 0 and male is assigned to 1. Since a male has a higher 'value' for calculation, it correlates with a lower survival chance due to the the negative coefficient."
      ],
      "metadata": {
        "id": "TGtzbEdcHYqI"
      },
      "id": "TGtzbEdcHYqI"
    },
    {
      "cell_type": "markdown",
      "id": "8b6b45e0-2b4b-43bb-82b1-6bb8fb8a5173",
      "metadata": {
        "id": "8b6b45e0-2b4b-43bb-82b1-6bb8fb8a5173"
      },
      "source": [
        "### Based on your discussion, first think about what other variable ought to be a decent predictor?"
      ]
    },
    {
      "cell_type": "markdown",
      "source": [
        "Age seems to be the other strong predictor alongside Sex. It has a low *p* value, the coefficient is negative meaning that older people are calculated to have a lower chance of survival, and the knowledge of \"women and children\" first as mentioned earlier."
      ],
      "metadata": {
        "id": "KFsSiydrH0jw"
      },
      "id": "KFsSiydrH0jw"
    },
    {
      "cell_type": "markdown",
      "id": "4dbd8241-c8a6-44e6-9487-f8d585ea35d9",
      "metadata": {
        "id": "4dbd8241-c8a6-44e6-9487-f8d585ea35d9"
      },
      "source": [
        "### Next, check the report output to see if that was the case.\n",
        "Enter what variable you thought might be a good predictor and whether that turned out to be the case."
      ]
    },
    {
      "cell_type": "markdown",
      "id": "777744d7-7575-45b0-9481-fb7905c0e0c4",
      "metadata": {
        "id": "777744d7-7575-45b0-9481-fb7905c0e0c4"
      },
      "source": [
        "## Next, we wil learn about the quality of our predictions on the test set."
      ]
    },
    {
      "cell_type": "code",
      "execution_count": null,
      "id": "8dd4560c-516f-415c-b43f-328aba6c6504",
      "metadata": {
        "id": "8dd4560c-516f-415c-b43f-328aba6c6504",
        "colab": {
          "base_uri": "https://localhost:8080/"
        },
        "outputId": "6a68b5c8-c290-438d-e90f-5cb9ba1addf2"
      },
      "outputs": [
        {
          "output_type": "stream",
          "name": "stdout",
          "text": [
            "0.6909090909090909\n",
            "[[14  1]\n",
            " [16 24]]\n"
          ]
        }
      ],
      "source": [
        "from sklearn.metrics import accuracy_score, confusion_matrix\n",
        "\n",
        "# Form our predictions, convert continuous [0, 1] predictions to binary\n",
        "predictions = logmodel.predict(sm.add_constant(X_test))\n",
        "bin_predictions = [1 if x >= 0.5 else 0 for x in predictions]\n",
        "\n",
        "# We can now assess the accuracy and print out the confusion matrix\n",
        "print(accuracy_score(y_test, bin_predictions))\n",
        "print(confusion_matrix(y_test, bin_predictions))"
      ]
    },
    {
      "cell_type": "markdown",
      "id": "51f8df56-0d09-490d-8084-5582dd37c16b",
      "metadata": {
        "id": "51f8df56-0d09-490d-8084-5582dd37c16b"
      },
      "source": [
        "## Discussion"
      ]
    },
    {
      "cell_type": "markdown",
      "id": "03d3f46b-24ed-4666-a72e-5bf6e975b99e",
      "metadata": {
        "id": "03d3f46b-24ed-4666-a72e-5bf6e975b99e"
      },
      "source": [
        "### There is another way to evaluate our model... for a variety of thresholds."
      ]
    },
    {
      "cell_type": "code",
      "execution_count": null,
      "id": "b0f3290d-8a04-42a7-ad90-2da217b1eb2d",
      "metadata": {
        "id": "b0f3290d-8a04-42a7-ad90-2da217b1eb2d",
        "colab": {
          "base_uri": "https://localhost:8080/",
          "height": 489
        },
        "outputId": "baf176c3-156c-42a0-a726-6da58858f785"
      },
      "outputs": [
        {
          "output_type": "execute_result",
          "data": {
            "text/plain": [
              "Text(0, 0.5, 'True Positive Rate')"
            ]
          },
          "metadata": {},
          "execution_count": 12
        },
        {
          "output_type": "display_data",
          "data": {
            "text/plain": [
              "<Figure size 640x480 with 1 Axes>"
            ],
            "image/png": "[encoded data removed]"
          },
          "metadata": {}
        }
      ],
      "source": [
        "from sklearn.metrics import roc_curve, roc_auc_score\n",
        "import matplotlib.pyplot as plt\n",
        "\n",
        "fpr, tpr, thresholds = roc_curve(y_test, predictions)\n",
        "roc_auc = roc_auc_score(y_test, predictions)\n",
        "\n",
        "plt.plot(fpr, tpr, label='ROC Curve (area = %0.3f)' % roc_auc)\n",
        "plt.title('ROC Curve (area = %0.3f)' % roc_auc)\n",
        "plt.xlabel('False Positive Rate')\n",
        "plt.ylabel('True Positive Rate')"
      ]
    }
  ],
  "metadata": {
    "kernelspec": {
      "display_name": "anaconda-panel-2023.05-py310",
      "language": "python",
      "name": "conda-env-anaconda-panel-2023.05-py310-py"
    },
    "language_info": {
      "codemirror_mode": {
        "name": "ipython",
        "version": 3
      },
      "file_extension": ".py",
      "mimetype": "text/x-python",
      "name": "python",
      "nbconvert_exporter": "python",
      "pygments_lexer": "ipython3",
      "version": "3.11.5"
    },
    "colab": {
      "provenance": []
    }
  },
  "nbformat": 4,
  "nbformat_minor": 5
}